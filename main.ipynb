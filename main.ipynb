# lets instantiate the model
NN = MLPClassifier()

# train the model on the training datset
NN.fit(x_train, y_train)

# make the predictions on test dataset
y_pred = NN.predict(x_test)

# compare the correct classes to the predicted classes 
accuracy = accuracy_score(y_test, y_pred)
conf_mat = confusion_matrix(y_test, y_pred)

# view the accuracy of the model
print("Accuracy for Neural Network is:",accuracy)
print("Confusion Matrix")
print(conf_mat)
